{
 "cells": [
  {
   "cell_type": "markdown",
   "metadata": {},
   "source": [
    "# 문제1"
   ]
  },
  {
   "cell_type": "code",
   "execution_count": 1,
   "metadata": {},
   "outputs": [
    {
     "name": "stdout",
     "output_type": "stream",
     "text": [
      "화씨온도: 100\n",
      "섭씨온도 : 37.77777777777778\n"
     ]
    }
   ],
   "source": [
    "F = int(input(\"화씨온도: \"))\n",
    "C = (F-32)*(5/9)\n",
    "print(\"섭씨온도 :\",C)"
   ]
  },
  {
   "cell_type": "markdown",
   "metadata": {},
   "source": [
    "# 문제2"
   ]
  },
  {
   "cell_type": "code",
   "execution_count": 2,
   "metadata": {},
   "outputs": [
    {
     "name": "stdout",
     "output_type": "stream",
     "text": [
      "투입한 돈: 5000\n",
      "물건값: 2700\n",
      "거스름돈: 2300\n",
      "500원짜리: 4 개\n",
      "100원짜리: 3 개\n"
     ]
    }
   ],
   "source": [
    "money_in = int(input(\"투입한 돈: \"))\n",
    "price = int(input(\"물건값: \"))\n",
    "exchange_money = money_in - price\n",
    "print(\"거스름돈:\",exchange_money)\n",
    "print(\"500원짜리:\", exchange_money//500 ,\"개\")\n",
    "print(\"100원짜리:\", int((exchange_money%500)/100),\"개\")"
   ]
  },
  {
   "cell_type": "markdown",
   "metadata": {},
   "source": [
    "# 문제3"
   ]
  },
  {
   "cell_type": "code",
   "execution_count": 35,
   "metadata": {
    "scrolled": true
   },
   "outputs": [
    {
     "name": "stdout",
     "output_type": "stream",
     "text": [
      "반지름을 입력하시오:5\n",
      "원 둘레: 31.42\n",
      "원 넓이: 78.54\n"
     ]
    }
   ],
   "source": [
    "radius = input(\"반지름을 입력하시오:\")\n",
    "pi = 3.141592\n",
    "print(\"원 둘레: %.2f\" %(2*float(pi)*float(radius)))\n",
    "print(\"원 넓이: %.2f\" %(float(pi)*float(radius)**2))"
   ]
  },
  {
   "cell_type": "code",
   "execution_count": null,
   "metadata": {},
   "outputs": [],
   "source": [
    "# can't multiply sequence by non-int of type 'float'\n",
    "# 문자열과 부동소수점 곱할 경우 뜨는 에러\n",
    "# %뒤에는 괄호로 묶어줘야함(자꾸 문자열*숫자로 인식함)"
   ]
  },
  {
   "cell_type": "markdown",
   "metadata": {},
   "source": [
    "# 문제4"
   ]
  },
  {
   "cell_type": "code",
   "execution_count": 1,
   "metadata": {},
   "outputs": [
    {
     "name": "stdout",
     "output_type": "stream",
     "text": [
      "Enter two integers:8 5\n",
      "8 + 5 = 13\n",
      "8 - 5 = 3\n",
      "8 * 5 = 40\n",
      "8 / 5 = 1.6\n",
      "8 % 5 = 3\n"
     ]
    }
   ],
   "source": [
    "numbers = input('Enter two integers:')\n",
    "a, b = numbers.split()\n",
    "print(\"%s + %s =\" %(a,b),int(a)+int(b))\n",
    "print(\"%s - %s =\" %(a,b),int(a)-int(b))\n",
    "print(\"%s * %s =\" %(a,b),int(a)*int(b))\n",
    "print(\"%s / %s =\" %(a,b),int(a)/int(b))\n",
    "print(\"%s %% %s =\" %(a,b),int(a)%int(b))"
   ]
  },
  {
   "cell_type": "code",
   "execution_count": null,
   "metadata": {},
   "outputs": [],
   "source": [
    "# 가운데 %를  format specifier 로 인지하여 오류났었음. 이럴땐 %%해줘야함"
   ]
  },
  {
   "cell_type": "markdown",
   "metadata": {},
   "source": [
    "# 문제5"
   ]
  },
  {
   "cell_type": "code",
   "execution_count": 36,
   "metadata": {},
   "outputs": [
    {
     "name": "stdout",
     "output_type": "stream",
     "text": [
      "Enter two integers:70 91\n",
      "The sum of 70 and 91 is 161\n",
      "The average of numbers is 80.5\n"
     ]
    }
   ],
   "source": [
    "numbers = input('Enter two integers:')\n",
    "a, b = numbers.split()\n",
    "print(\"The sum of %s and %s is\"%(a,b),int(a)+int(b))\n",
    "print(\"The average of numbers is\",((int(a)+int(b))/2))"
   ]
  },
  {
   "cell_type": "markdown",
   "metadata": {},
   "source": [
    "# 문제6"
   ]
  },
  {
   "cell_type": "code",
   "execution_count": 9,
   "metadata": {},
   "outputs": [
    {
     "name": "stdout",
     "output_type": "stream",
     "text": [
      "날짜(연/월/일)입력:2021/02/16\n",
      "입력한 날짜의 10년 후는 2031년 02월 16일\n"
     ]
    }
   ],
   "source": [
    "present_date = input(\"날짜(연/월/일)입력:\" )\n",
    "year, month, day = present_date.split(\"/\")   # 스플릿하고 언패킹해줌.\n",
    "print(\"입력한 날짜의 10년 후는 %s년 %s월 %s일\" %(int(year)+10, month, day))"
   ]
  },
  {
   "cell_type": "markdown",
   "metadata": {},
   "source": [
    "# 실습문제3"
   ]
  },
  {
   "cell_type": "code",
   "execution_count": 37,
   "metadata": {},
   "outputs": [
    {
     "data": {
      "text/plain": [
       "'o'"
      ]
     },
     "execution_count": 37,
     "metadata": {},
     "output_type": "execute_result"
    }
   ],
   "source": [
    "word = 'Hello'\n",
    "word[len(word)-1]"
   ]
  }
 ],
 "metadata": {
  "kernelspec": {
   "display_name": "Python 3",
   "language": "python",
   "name": "python3"
  },
  "language_info": {
   "codemirror_mode": {
    "name": "ipython",
    "version": 3
   },
   "file_extension": ".py",
   "mimetype": "text/x-python",
   "name": "python",
   "nbconvert_exporter": "python",
   "pygments_lexer": "ipython3",
   "version": "3.8.5"
  }
 },
 "nbformat": 4,
 "nbformat_minor": 4
}

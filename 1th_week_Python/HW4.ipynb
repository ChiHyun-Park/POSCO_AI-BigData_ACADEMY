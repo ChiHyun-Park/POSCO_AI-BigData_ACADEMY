{
 "cells": [
  {
   "cell_type": "markdown",
   "metadata": {},
   "source": [
    "# 파일"
   ]
  },
  {
   "cell_type": "markdown",
   "metadata": {},
   "source": [
    "## 실습1"
   ]
  },
  {
   "cell_type": "code",
   "execution_count": 1,
   "metadata": {},
   "outputs": [
    {
     "name": "stdout",
     "output_type": "stream",
     "text": [
      "first 1\n",
      "line 3\n",
      "second 1\n",
      "third 1\n"
     ]
    }
   ],
   "source": [
    "import re\n",
    "import string\n",
    "frequency = {}\n",
    "fr = open(\"test.txt\", \"r\")\n",
    "text_string=fr.read()\n",
    "match_pattern = re.findall(r'\\b[a-z]{3,15}\\b', text_string)\n",
    "for word in match_pattern:\n",
    "    count = frequency.get(word,0)\n",
    "    frequency[word] = count+1\n",
    "frequency_list = frequency.keys()\n",
    "for words in frequency_list:\n",
    "    print(words, frequency[words])"
   ]
  },
  {
   "cell_type": "markdown",
   "metadata": {},
   "source": [
    "## 실습2"
   ]
  },
  {
   "cell_type": "code",
   "execution_count": 2,
   "metadata": {
    "scrolled": true
   },
   "outputs": [
    {
     "name": "stdout",
     "output_type": "stream",
     "text": [
      "Enter a file name:test.txt\n",
      "FIRST LINE\n",
      "SECOND LINE\n",
      "THIRD LINE"
     ]
    }
   ],
   "source": [
    "import os\n",
    "file_name = input(\"Enter a file name:\")\n",
    "# 파일 체크하는데 없으면 파일이 존재하지 않는다. \n",
    "fr = open(file_name,\"r\")\n",
    "for line in fr:\n",
    "    print(line.upper(), end=\"\")\n",
    "fr.close()"
   ]
  },
  {
   "cell_type": "markdown",
   "metadata": {},
   "source": [
    "## 실습3"
   ]
  },
  {
   "cell_type": "markdown",
   "metadata": {},
   "source": [
    "![alt text](HW4cp.png \"Title\")"
   ]
  },
  {
   "cell_type": "markdown",
   "metadata": {},
   "source": [
    "## 실습4"
   ]
  },
  {
   "cell_type": "code",
   "execution_count": 28,
   "metadata": {},
   "outputs": [
    {
     "name": "stdout",
     "output_type": "stream",
     "text": [
      "[['201901', 89, 78, 82.4, '(B)'], ['201902', 76, 84, 80.8, '(B)'], ['201903', 67, 42, 52.0, '(F)'], ['201904', 66, 88, 79.2, '(C)'], ['201905', 98, 99, 98.6, '(A)']]\n"
     ]
    }
   ],
   "source": [
    "a = []\n",
    "\n",
    "with open(\"score.txt\", \"r\") as f:\n",
    "    for i in range(5):\n",
    "        a.append(f.readline().split())\n",
    "for i in range(5):\n",
    "    a[i][1] = int(a[i][1])\n",
    "    a[i][2] = int(a[i][2])\n",
    "    a[i].append((a[i][1]*0.8+a[i][2]*1.2)/2)\n",
    "for i in range(5):\n",
    "    if a[i][3] >= 90:\n",
    "        a[i].append(\"(A)\")\n",
    "    elif 80 <= a[i][3] < 90:\n",
    "        a[i].append(\"(B)\")\n",
    "    elif 70 <= a[i][3] < 80:\n",
    "        a[i].append(\"(C)\")\n",
    "    elif 60 <= a[i][3] < 70:\n",
    "        a[i].append(\"(D)\")\n",
    "    else:\n",
    "        a[i].append(\"(F)\")\n",
    "        \n",
    "print(a)\n",
    "\n",
    "with open(\"report.txt\",\"w\") as f2:\n",
    "    for i in range(5):\n",
    "        data = (\"{} {} {} {} {}\\n\".format(a[i][0],a[i][1],a[i][2],a[i][3],a[i][4]))\n",
    "        f2.write(data)\n",
    "        \n",
    "f.close()\n",
    "f2.close()"
   ]
  }
 ],
 "metadata": {
  "kernelspec": {
   "display_name": "Python 3",
   "language": "python",
   "name": "python3"
  },
  "language_info": {
   "codemirror_mode": {
    "name": "ipython",
    "version": 3
   },
   "file_extension": ".py",
   "mimetype": "text/x-python",
   "name": "python",
   "nbconvert_exporter": "python",
   "pygments_lexer": "ipython3",
   "version": "3.8.5"
  }
 },
 "nbformat": 4,
 "nbformat_minor": 4
}

{
 "cells": [
  {
   "cell_type": "markdown",
   "metadata": {},
   "source": [
    "# 함수"
   ]
  },
  {
   "cell_type": "markdown",
   "metadata": {},
   "source": [
    "## 과제 1"
   ]
  },
  {
   "cell_type": "code",
   "execution_count": 1,
   "metadata": {},
   "outputs": [
    {
     "name": "stdout",
     "output_type": "stream",
     "text": [
      "13 는 소수입니다.\n",
      "15 는 소수가 아닙니다.\n"
     ]
    }
   ],
   "source": [
    "# 소수는 1과 자기 자신으로만 나누어짐.\n",
    "\n",
    "\n",
    "def check_prime(num):\n",
    "    for i in range(2,num):\n",
    "        if num%i ==0:\n",
    "            return False\n",
    "    return True\n",
    "\n",
    "def main():    # 메인 함수를 정의한다. 마지막에 main()으로 호출을해야 작동한다. \n",
    "    a = 13\n",
    "    b = 15\n",
    "    \n",
    "    if check_prime(a):\n",
    "        print(a,'는 소수입니다.')\n",
    "    else:\n",
    "        print(a,'는 소수가 아닙니다.')\n",
    "        \n",
    "    if check_prime(b):\n",
    "        print(b,'는 소수입니다.')\n",
    "    else:\n",
    "        print(b,'는 소수가 아닙니다.')\n",
    "        \n",
    "if __name__ == \"__main__\":\n",
    "    main()                      # 이렇게 두 문장 이용해서 main함수 호출하면 그 안에 check_prime도 호출되어 결과값 도출!\n"
   ]
  },
  {
   "cell_type": "markdown",
   "metadata": {},
   "source": [
    "## 과제 2"
   ]
  },
  {
   "cell_type": "code",
   "execution_count": 2,
   "metadata": {},
   "outputs": [
    {
     "name": "stdout",
     "output_type": "stream",
     "text": [
      "1,234\n",
      "12,345,678\n",
      "12\n"
     ]
    }
   ],
   "source": [
    "def add_comma(val):\n",
    "    return format(val, \",\")\n",
    "    \n",
    "\n",
    "def main():\n",
    "    comma_added_1234 = add_comma(1234)\n",
    "    comma_added_12345678 = add_comma(12345678)\n",
    "    comma_added_12 = add_comma(12)\n",
    "    \n",
    "    print(comma_added_1234)\n",
    "    print(comma_added_12345678)\n",
    "    print(comma_added_12)\n",
    "    \n",
    "if __name__ == \"__main__\":\n",
    "    main()         "
   ]
  },
  {
   "cell_type": "code",
   "execution_count": 3,
   "metadata": {},
   "outputs": [
    {
     "name": "stdout",
     "output_type": "stream",
     "text": [
      "1,234\n",
      "1.234000E+03\n",
      "4D2\n",
      "____1,234.00\n"
     ]
    }
   ],
   "source": [
    "# 포맷함수\n",
    "# https://hashcode.co.kr/questions/2959/%ED%8C%8C%EC%9D%B4%EC%8D%AC-1000%EB%8B%A8%EC%9C%84-%EC%BD%A4%EB%A7%88-%EB%84%A3%EB%8A%94%EB%B2%95\n",
    "print(format(1234, \",\")) # 3자리마다 , 추가\n",
    "print(format(1234, \"E\")) # 지수로 표현\n",
    "print(format(1234, \"X\")) # 16진수로 표현\n",
    "print(format(1234, \"_>-012,.2f\"))"
   ]
  },
  {
   "cell_type": "markdown",
   "metadata": {},
   "source": [
    "## 과제 3"
   ]
  },
  {
   "cell_type": "code",
   "execution_count": 4,
   "metadata": {},
   "outputs": [
    {
     "name": "stdout",
     "output_type": "stream",
     "text": [
      "['There', 'was', 'a', 'farmer', 'who', 'had', 'a', 'dog', '.']\n",
      "['There was', 'was a', 'a farmer', 'farmer who', 'who had', 'had a', 'a dog', 'dog .']\n"
     ]
    }
   ],
   "source": [
    "def tokenize(trg, N=1):   # .trg 형식의 파일이 존재\n",
    "    new_list = []\n",
    "    words = trg.split()\n",
    "    if N==1:\n",
    "        return words\n",
    "    else:\n",
    "        for i in range(0,len(words)-1):\n",
    "            new_list.append(words[i]+\" \"+words[i+1])\n",
    "        return new_list\n",
    "        \n",
    "        \n",
    "#     1일때는 [0], [1], [2] 이 새로운 리스트가 됨. \n",
    "#     2일때는 [0]+[1], [1]+[2] 이 새로운 리스트가 됨.\n",
    "    \n",
    "def main():\n",
    "    a = \"There was a farmer who had a dog .\"\n",
    "   \n",
    "    print(tokenize(a))\n",
    "    print(tokenize(a, 2))\n",
    "\n",
    "if __name__ == \"__main__\":\n",
    "    main()    "
   ]
  },
  {
   "cell_type": "markdown",
   "metadata": {},
   "source": [
    "## 과제 4"
   ]
  },
  {
   "cell_type": "code",
   "execution_count": 5,
   "metadata": {
    "scrolled": true
   },
   "outputs": [
    {
     "name": "stdout",
     "output_type": "stream",
     "text": [
      "평균:  [0.5, 0.5]\n",
      "분산:  [0.16666666666666666, 0.16666666666666666]\n"
     ]
    }
   ],
   "source": [
    "def mean_and_var(*val):     # 매개변수가 몇개인지 모름\n",
    "    \n",
    "    #평균\n",
    "    v_x=0\n",
    "    v_y=0\n",
    "    for i in val:     # 여기 val은 [v1,v2,v3]를 나타낸다.\n",
    "        v_x += i[0]\n",
    "        v_y += i[1]        \n",
    "    m= [v_x/len(val),v_y/len(val)]\n",
    "    \n",
    "    #분산\n",
    "    vr_x=0\n",
    "    vr_y=0\n",
    "    for i in val:\n",
    "        vr_x += (i[0]-m[0])**2\n",
    "        vr_y += (i[0]-m[0])**2\n",
    "    vr= [vr_x/len(val),vr_y/len(val)]\n",
    "    return [m,vr]\n",
    "    \n",
    "    \n",
    "    \n",
    "    \n",
    "def main():\n",
    "    v1 = (0,1)\n",
    "    v2 = (0.5, 0.5)\n",
    "    v3 = (1,0)\n",
    "    m, var = mean_and_var(v1, v2, v3)\n",
    "    print('평균: ', m)\n",
    "    print('분산: ', var)\n",
    "\n",
    "if __name__ == \"__main__\":\n",
    "    main()"
   ]
  },
  {
   "cell_type": "markdown",
   "metadata": {},
   "source": [
    "# OOP"
   ]
  },
  {
   "cell_type": "code",
   "execution_count": 6,
   "metadata": {},
   "outputs": [
    {
     "name": "stdout",
     "output_type": "stream",
     "text": [
      "{1, 2, 3, 4, 5, 6, 7, 8, 9}\n",
      "{5, 6, 7, 8, 9, 10, 111}\n",
      "{1, 2, 3, 5, 6, 7, 8, 9}\n",
      "{5, 6, 7, 8, 9, 10, 111}\n",
      "{1, 2, 3, 5, 6, 7, 8, 9, 4}\n",
      "{5, 6, 7, 8, 9, 10, 111, 1}\n",
      "{}\n",
      "{}\n",
      "-----------------------------------\n",
      "9\n",
      "7\n",
      "True\n",
      "False\n",
      "False\n",
      "False\n",
      "False\n",
      "True\n",
      "------------------------------------\n",
      "{1, 2, 3, 4, 5, 6, 7, 8, 9, 10, 111}\n",
      "{5, 6, 7, 8, 9, 10, 111}\n",
      "{1, 2, 3, 4}\n",
      "{1, 2, 3, 4, 5, 6, 7, 8, 9, 10, 111}\n",
      "{5, 6, 7, 8, 9}\n",
      "{1, 2, 3, 4}\n"
     ]
    }
   ],
   "source": [
    "class Set:\n",
    "    def __init__(self,input_list=None):  #__init__에서는 return 안해줌.  # init에서는 입력받을 변수와 입력받지않는 초기변수를 만들 수 있다. \n",
    "        if input_list==None:\n",
    "            self.il=[]     # il이라는 빈 리스트 인스턴스 변수를 만든것이다.\n",
    "        else:\n",
    "            input_list.sort()\n",
    "            tmp=[]\n",
    "            for i in input_list:  # Set의 객체가 아니라 외부에서 넣어준 list라서 iter 필요없이 for문 돌아감\n",
    "                if i not in tmp:\n",
    "                    tmp.append(i)\n",
    "            self.il=tmp\n",
    "        \n",
    "# __str__ 특수메서드는 문자열로 바꿔 반환한다.\n",
    "# print() or str() 함수를 사용하면 호출되는 특수메서드다.\n",
    "    def __str__(self):\n",
    "        il_str=str(self.il)     # str함수는 리스트안의 원소들 각각에 '' 를 씌워준다. \n",
    "        il_str_new=il_str.replace('[','{')\n",
    "        il_str_new_new=il_str_new.replace(']','}')\n",
    "        return il_str_new_new\n",
    "    \n",
    "    def add(self, increment):\n",
    "        if increment not in self.il:\n",
    "            self.il.append(increment)\n",
    "        else:\n",
    "            pass\n",
    "        return self.il                # 여기서 업데이트된 self.il이 print()를 통해 호출되면 __str__을 거쳐서 il_str_new_new 나오는 것이다.\n",
    "\n",
    "    \n",
    "    def discard(self, deletion):\n",
    "        if deletion in self.il:\n",
    "            self.il.remove(deletion)\n",
    "        else:\n",
    "            pass\n",
    "        return self.il\n",
    "    \n",
    "    def clear(self):\n",
    "        del self.il[:]\n",
    "        return self.il\n",
    "    \n",
    "    def __len__(self):\n",
    "        return len(self.il)    # 여기서 return된 len(self.il)은 __str__통해서 어떻게 출력되는걸까? il_str=str(self.il) 보면 self.il을 받는거라 헷갈림.\n",
    "    \n",
    "        \n",
    "    def __contains__(self, container):\n",
    "        if container in self.il:\n",
    "            return True\n",
    "        else:\n",
    "            return False\n",
    "            \n",
    "    def __le__(self, other):  # 기호<= ,  a가 other의 부분집합일때. 참 반환.\n",
    "        for i in self.il:\n",
    "            if i in other.il:\n",
    "                pass\n",
    "            else:\n",
    "                return False\n",
    "        return True\n",
    "            \n",
    "    def __ge__(self, other): # 기호>= , other가 a의 부분집합일 때 참 반환.\n",
    "        for i in other.il:  # a = Set([1,2,3,4,1,2,3,5,6,7,8,9])\n",
    "            if i not in self.il: # b = Set([5,6,7,8,9,10,111])\n",
    "                return False\n",
    "                break\n",
    "        return True\n",
    "                \n",
    "    def __or__(self, other):   #  기호 |  , a 와 other의 합집합 반환\n",
    "        for i in other.il:        # other는 함수 인자로 가져온거고 클래스 멤버가 아니라서 self.other라고 하면안됨. \n",
    "            if i in self.il:\n",
    "                continue\n",
    "            else:\n",
    "                self.il.append(i)\n",
    "        return Set(self.il)           # 이러면 self가 다시 __str__의 self로 들어가서 set꼴로 바뀜 ㄸ\n",
    "    \n",
    "    \n",
    "    def __and__(self, other):    # 기호& ,  a 와 other의 교집합 반환\n",
    "        list_2 = list()\n",
    "        for i in other.il:       # other.il 로 해야 list라서 iterable성질가짐.\n",
    "            if i in self.il:\n",
    "                list_2.append(i)\n",
    "        return Set(list_2)    # 이렇게 해야 Set을 통해 init거치고 print하면 __str__을 거치게 된다. \n",
    "                \n",
    "    def __sub__(self, other):   # 기호- ,  a - other 해서 남은 차집합 반환. \n",
    "        for i in other.il:\n",
    "            if i in self.il:\n",
    "                self.il.remove(i)\n",
    "            else:\n",
    "                pass\n",
    "        return Set(self.il)\n",
    "    \n",
    "    def __iand__(self,other): #  기호&= , a와 b의 교집합이 a가 되도록!\n",
    "        list_2 = list()\n",
    "        for i in other.il:       # other.il 로 해야 list라서 iterable성질가짐.\n",
    "            if i in self.il:\n",
    "                list_2.append(i)\n",
    "        return Set(list_2)\n",
    "                \n",
    "    def __ior__(self, other):   #  기호|= , a와 b의 합집합이 a가 되도록!\n",
    "        for i in other.il:\n",
    "            if i in self.il:\n",
    "                continue\n",
    "            else:\n",
    "                self.il.append(i)\n",
    "        return Set(self.il) \n",
    "                                   \n",
    "    def __isub__(self, other):         #  기호-=,  a - b 는 a가 된다.\n",
    "        for i in other.il:\n",
    "            if i in self.il:\n",
    "                self.il.remove(i)\n",
    "            else:\n",
    "                pass\n",
    "        return Set(self.il)\n",
    "    \n",
    "a = Set([1,2,3,4,1,2,3,5,6,7,8,9])\n",
    "b = Set([5,6,7,8,9,10,111])\n",
    "\n",
    "print(a)\n",
    "print(b)\n",
    "\n",
    "a.discard(4)\n",
    "b.discard(1)\n",
    "print(a)\n",
    "print(b)\n",
    "\n",
    "a.add(4)\n",
    "b.add(1)\n",
    "print(a)\n",
    "print(b)\n",
    "\n",
    "a.clear()\n",
    "b.clear()\n",
    "print(a)\n",
    "print(b)\n",
    "print('-----------------------------------')\n",
    "a = Set([1,2,3,4,1,2,3,5,6,7,8,9])\n",
    "b = Set([5,6,7,8,9,10,111])\n",
    "print(len(a)) # 9\n",
    "print(len(b)) # 7\n",
    "print(1 in a) # True\n",
    "print(100 in a) # False\n",
    "print(a <= b) # False\n",
    "print(b <= a) # False\n",
    "print(a >= b) # False\n",
    "print(a >= a & b) #True\n",
    "print('------------------------------------')\n",
    "print(a | b)\n",
    "print(a & b)\n",
    "print(a - b)\n",
    "a |= b\n",
    "print(a)\n",
    "a = Set([1,2,3,4,1,2,3,5,6,7,8,9])\n",
    "a &= b\n",
    "print(a)\n",
    "a = Set([1,2,3,4,1,2,3,5,6,7,8,9])\n",
    "a -= b \n",
    "print(a)"
   ]
  },
  {
   "cell_type": "code",
   "execution_count": 7,
   "metadata": {},
   "outputs": [],
   "source": [
    "# 연산자 오퍼레이터 목록\n",
    "# https://docs.python.org/3/library/operator.html"
   ]
  }
 ],
 "metadata": {
  "kernelspec": {
   "display_name": "Python 3",
   "language": "python",
   "name": "python3"
  },
  "language_info": {
   "codemirror_mode": {
    "name": "ipython",
    "version": 3
   },
   "file_extension": ".py",
   "mimetype": "text/x-python",
   "name": "python",
   "nbconvert_exporter": "python",
   "pygments_lexer": "ipython3",
   "version": "3.8.5"
  }
 },
 "nbformat": 4,
 "nbformat_minor": 4
}
